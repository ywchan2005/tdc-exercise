{
  "nbformat": 4,
  "nbformat_minor": 0,
  "metadata": {
    "colab": {
      "provenance": []
    },
    "kernelspec": {
      "name": "python3",
      "display_name": "Python 3"
    },
    "language_info": {
      "name": "python"
    }
  },
  "cells": [
    {
      "cell_type": "code",
      "source": [
        "from tdc.single_pred import ADME\n",
        "import scipy.stats"
      ],
      "metadata": {
        "id": "Lq2hp0DWGM92"
      },
      "execution_count": 2,
      "outputs": []
    },
    {
      "cell_type": "markdown",
      "source": [
        "# Half Life, Obach et al."
      ],
      "metadata": {
        "id": "yN3rRSQkHIkU"
      }
    },
    {
      "cell_type": "code",
      "source": [
        "halflife_data = ADME( name='Half_Life_Obach' )\n",
        "halflife_splitted_data = halflife_data.get_split( method='scaffold' )\n",
        "halflife_train_data = halflife_splitted_data[ 'train' ]\n",
        "halflife_valid_data = halflife_splitted_data[ 'valid' ]"
      ],
      "metadata": {
        "colab": {
          "base_uri": "https://localhost:8080/"
        },
        "id": "4lzM1iNCGRMl",
        "outputId": "9779f029-b78b-4bc2-e285-9a679f9d9f45"
      },
      "execution_count": 3,
      "outputs": [
        {
          "output_type": "stream",
          "name": "stderr",
          "text": [
            "Downloading...\n",
            "100%|██████████| 53.6k/53.6k [00:00<00:00, 918kiB/s]\n",
            "Loading...\n",
            "Done!\n",
            "100%|██████████| 667/667 [00:00<00:00, 1464.34it/s]\n"
          ]
        }
      ]
    },
    {
      "cell_type": "code",
      "source": [
        "halflife_train_data.Y.hist();"
      ],
      "metadata": {
        "colab": {
          "base_uri": "https://localhost:8080/",
          "height": 265
        },
        "id": "i_I3ngBNGVtW",
        "outputId": "1c147823-9cf5-4e80-b45b-17fe70f05dba"
      },
      "execution_count": 4,
      "outputs": [
        {
          "output_type": "display_data",
          "data": {
            "text/plain": [
              "<Figure size 432x288 with 1 Axes>"
            ],
            "image/png": "[encoded data removed]"
          },
          "metadata": {
            "needs_background": "light"
          }
        }
      ]
    },
    {
      "cell_type": "code",
      "source": [
        "halflife_valid_data.Y.hist();"
      ],
      "metadata": {
        "colab": {
          "base_uri": "https://localhost:8080/",
          "height": 265
        },
        "id": "rtTi2qkpGaQb",
        "outputId": "308b7d08-41e7-4a1a-f99f-6e5e7c9f11ad"
      },
      "execution_count": 5,
      "outputs": [
        {
          "output_type": "display_data",
          "data": {
            "text/plain": [
              "<Figure size 432x288 with 1 Axes>"
            ],
            "image/png": "[encoded data removed]"
          },
          "metadata": {
            "needs_background": "light"
          }
        }
      ]
    },
    {
      "cell_type": "code",
      "source": [
        "scipy.stats.ks_2samp( halflife_train_data.Y, halflife_valid_data.Y )"
      ],
      "metadata": {
        "colab": {
          "base_uri": "https://localhost:8080/"
        },
        "id": "oo2Z5zpTGmYY",
        "outputId": "7affb550-70d2-4336-8143-cc49156b9284"
      },
      "execution_count": 6,
      "outputs": [
        {
          "output_type": "execute_result",
          "data": {
            "text/plain": [
              "KstestResult(statistic=0.08121992456756405, pvalue=0.8066634253809364)"
            ]
          },
          "metadata": {},
          "execution_count": 6
        }
      ]
    },
    {
      "cell_type": "markdown",
      "source": [
        "# Clearance, AstraZeneca"
      ],
      "metadata": {
        "id": "a1hRpeu6HTzZ"
      }
    },
    {
      "cell_type": "code",
      "source": [
        "clearance_data = ADME( name='Clearance_Hepatocyte_AZ' )\n",
        "clearance_splitted_data = clearance_data.get_split( method='scaffold' )\n",
        "clearance_train_data = clearance_splitted_data[ 'train' ]\n",
        "clearance_valid_data = clearance_splitted_data[ 'valid' ]"
      ],
      "metadata": {
        "colab": {
          "base_uri": "https://localhost:8080/"
        },
        "id": "eObJtQf4GxQl",
        "outputId": "ac6c0560-ec2f-4bf8-977b-ab7d87d3cf98"
      },
      "execution_count": 7,
      "outputs": [
        {
          "output_type": "stream",
          "name": "stderr",
          "text": [
            "Downloading...\n",
            "100%|██████████| 91.6k/91.6k [00:00<00:00, 1.52MiB/s]\n",
            "Loading...\n",
            "Done!\n",
            "100%|██████████| 1213/1213 [00:01<00:00, 1174.96it/s]\n"
          ]
        }
      ]
    },
    {
      "cell_type": "code",
      "source": [
        "clearance_train_data.Y.hist();"
      ],
      "metadata": {
        "colab": {
          "base_uri": "https://localhost:8080/",
          "height": 265
        },
        "id": "huCtqxkQG9XD",
        "outputId": "9601825f-7479-481e-e649-2747976bf8d7"
      },
      "execution_count": 8,
      "outputs": [
        {
          "output_type": "display_data",
          "data": {
            "text/plain": [
              "<Figure size 432x288 with 1 Axes>"
            ],
            "image/png": "[encoded data removed]"
          },
          "metadata": {
            "needs_background": "light"
          }
        }
      ]
    },
    {
      "cell_type": "code",
      "source": [
        "clearance_valid_data.Y.hist();"
      ],
      "metadata": {
        "colab": {
          "base_uri": "https://localhost:8080/",
          "height": 265
        },
        "id": "0pYk1oJ2HBNP",
        "outputId": "b3d635ab-ca15-44a3-f2d8-d2902d77087b"
      },
      "execution_count": 9,
      "outputs": [
        {
          "output_type": "display_data",
          "data": {
            "text/plain": [
              "<Figure size 432x288 with 1 Axes>"
            ],
            "image/png": "[encoded data removed]"
          },
          "metadata": {
            "needs_background": "light"
          }
        }
      ]
    },
    {
      "cell_type": "code",
      "source": [
        "scipy.stats.ks_2samp( clearance_train_data.Y, clearance_valid_data.Y )"
      ],
      "metadata": {
        "colab": {
          "base_uri": "https://localhost:8080/"
        },
        "id": "A8HqsRWCHDmI",
        "outputId": "6cfdc330-77c2-4514-999e-d1523a1631cc"
      },
      "execution_count": 10,
      "outputs": [
        {
          "output_type": "execute_result",
          "data": {
            "text/plain": [
              "KstestResult(statistic=0.12254572710724333, pvalue=0.07564299061139235)"
            ]
          },
          "metadata": {},
          "execution_count": 10
        }
      ]
    },
    {
      "cell_type": "code",
      "source": [
        "clearance_data = ADME( name='Clearance_Microsome_AZ' )\n",
        "clearance_splitted_data = clearance_data.get_split( method='scaffold' )\n",
        "clearance_train_data = clearance_splitted_data[ 'train' ]\n",
        "clearance_valid_data = clearance_splitted_data[ 'valid' ]"
      ],
      "metadata": {
        "colab": {
          "base_uri": "https://localhost:8080/"
        },
        "id": "hj9MxvOjQHu8",
        "outputId": "34a11ac2-dad0-401f-8d66-cf6bf6700ba7"
      },
      "execution_count": 11,
      "outputs": [
        {
          "output_type": "stream",
          "name": "stderr",
          "text": [
            "Downloading...\n",
            "100%|██████████| 81.7k/81.7k [00:00<00:00, 1.36MiB/s]\n",
            "Loading...\n",
            "Done!\n",
            "100%|██████████| 1102/1102 [00:00<00:00, 2190.96it/s]\n"
          ]
        }
      ]
    },
    {
      "cell_type": "code",
      "source": [
        "clearance_train_data.Y.hist();"
      ],
      "metadata": {
        "colab": {
          "base_uri": "https://localhost:8080/",
          "height": 265
        },
        "id": "PwecmJwhQLit",
        "outputId": "57fc3a7e-8e7e-43e9-ec2d-3435679e4949"
      },
      "execution_count": 12,
      "outputs": [
        {
          "output_type": "display_data",
          "data": {
            "text/plain": [
              "<Figure size 432x288 with 1 Axes>"
            ],
            "image/png": "[encoded data removed]"
          },
          "metadata": {
            "needs_background": "light"
          }
        }
      ]
    },
    {
      "cell_type": "code",
      "source": [
        "clearance_valid_data.Y.hist();"
      ],
      "metadata": {
        "colab": {
          "base_uri": "https://localhost:8080/",
          "height": 265
        },
        "id": "6Ur4mZDnQM0o",
        "outputId": "18723625-701d-40ae-ed52-fd46a6e6fc01"
      },
      "execution_count": 13,
      "outputs": [
        {
          "output_type": "display_data",
          "data": {
            "text/plain": [
              "<Figure size 432x288 with 1 Axes>"
            ],
            "image/png": "[encoded data removed]"
          },
          "metadata": {
            "needs_background": "light"
          }
        }
      ]
    },
    {
      "cell_type": "code",
      "source": [
        "scipy.stats.ks_2samp( clearance_train_data.Y, clearance_valid_data.Y )"
      ],
      "metadata": {
        "colab": {
          "base_uri": "https://localhost:8080/"
        },
        "id": "KeKdmgkUQOMS",
        "outputId": "866c8b30-5868-4ea7-813c-1b56c9f8629c"
      },
      "execution_count": 14,
      "outputs": [
        {
          "output_type": "execute_result",
          "data": {
            "text/plain": [
              "KstestResult(statistic=0.1333804975828322, pvalue=0.057898113972152276)"
            ]
          },
          "metadata": {},
          "execution_count": 14
        }
      ]
    }
  ]
}