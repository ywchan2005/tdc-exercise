{
  "nbformat": 4,
  "nbformat_minor": 0,
  "metadata": {
    "colab": {
      "provenance": []
    },
    "kernelspec": {
      "name": "python3",
      "display_name": "Python 3"
    },
    "language_info": {
      "name": "python"
    }
  },
  "cells": [
    {
      "cell_type": "code",
      "source": [
        "from tdc.single_pred import ADME\n",
        "import scipy.stats"
      ],
      "metadata": {
        "id": "Lq2hp0DWGM92"
      },
      "execution_count": 2,
      "outputs": []
    },
    {
      "cell_type": "markdown",
      "source": [
        "## Caco-2 (Cell Effective Permeability), Wang et al."
      ],
      "metadata": {
        "id": "yN3rRSQkHIkU"
      }
    },
    {
      "cell_type": "code",
      "source": [
        "caco2_data = ADME( name='Caco2_Wang' )\n",
        "caco2_splitted_data = caco2_data.get_split( method='scaffold' )\n",
        "caco2_train_data = caco2_splitted_data[ 'train' ]\n",
        "caco2_valid_data = caco2_splitted_data[ 'valid' ]"
      ],
      "metadata": {
        "colab": {
          "base_uri": "https://localhost:8080/"
        },
        "id": "4lzM1iNCGRMl",
        "outputId": "e5f7e9f5-3585-43b1-ee38-9b3e4049bc6b"
      },
      "execution_count": 3,
      "outputs": [
        {
          "output_type": "stream",
          "name": "stderr",
          "text": [
            "Downloading...\n",
            "100%|██████████| 82.5k/82.5k [00:00<00:00, 2.63MiB/s]\n",
            "Loading...\n",
            "Done!\n",
            "100%|██████████| 910/910 [00:00<00:00, 1635.83it/s]\n"
          ]
        }
      ]
    },
    {
      "cell_type": "code",
      "source": [
        "caco2_train_data.Y.hist();"
      ],
      "metadata": {
        "colab": {
          "base_uri": "https://localhost:8080/",
          "height": 265
        },
        "id": "i_I3ngBNGVtW",
        "outputId": "881ab03c-7de2-47fa-b262-41fcf929cf8d"
      },
      "execution_count": 4,
      "outputs": [
        {
          "output_type": "display_data",
          "data": {
            "text/plain": [
              "<Figure size 432x288 with 1 Axes>"
            ],
            "image/png": "[encoded data removed]"
          },
          "metadata": {
            "needs_background": "light"
          }
        }
      ]
    },
    {
      "cell_type": "code",
      "source": [
        "caco2_valid_data.Y.hist();"
      ],
      "metadata": {
        "colab": {
          "base_uri": "https://localhost:8080/",
          "height": 265
        },
        "id": "rtTi2qkpGaQb",
        "outputId": "97f9adc9-cb96-4da2-e5f7-a6974b1eff42"
      },
      "execution_count": 5,
      "outputs": [
        {
          "output_type": "display_data",
          "data": {
            "text/plain": [
              "<Figure size 432x288 with 1 Axes>"
            ],
            "image/png": "[encoded data removed]"
          },
          "metadata": {
            "needs_background": "light"
          }
        }
      ]
    },
    {
      "cell_type": "code",
      "source": [
        "scipy.stats.ks_2samp( caco2_train_data.Y, caco2_valid_data.Y )"
      ],
      "metadata": {
        "colab": {
          "base_uri": "https://localhost:8080/"
        },
        "id": "oo2Z5zpTGmYY",
        "outputId": "99b0968a-2cf5-410a-c0fe-44aaf18ab484"
      },
      "execution_count": 6,
      "outputs": [
        {
          "output_type": "execute_result",
          "data": {
            "text/plain": [
              "KstestResult(statistic=0.11459968602825746, pvalue=0.23305761303012396)"
            ]
          },
          "metadata": {},
          "execution_count": 6
        }
      ]
    },
    {
      "cell_type": "markdown",
      "source": [
        "# PAMPA Permeability, NCATS"
      ],
      "metadata": {
        "id": "a1hRpeu6HTzZ"
      }
    },
    {
      "cell_type": "code",
      "source": [
        "pampa_data = ADME( name='PAMPA_NCATS' )\n",
        "pampa_splitted_data = pampa_data.get_split( method='scaffold' )\n",
        "pampa_train_data = pampa_splitted_data[ 'train' ]\n",
        "pampa_valid_data = pampa_splitted_data[ 'valid' ]"
      ],
      "metadata": {
        "colab": {
          "base_uri": "https://localhost:8080/"
        },
        "id": "eObJtQf4GxQl",
        "outputId": "dfd6718e-3f7c-423d-8cce-de98480eb064"
      },
      "execution_count": 7,
      "outputs": [
        {
          "output_type": "stream",
          "name": "stderr",
          "text": [
            "Downloading...\n",
            "100%|██████████| 144k/144k [00:00<00:00, 1.76MiB/s]\n",
            "Loading...\n",
            "Done!\n",
            "100%|██████████| 2034/2034 [00:00<00:00, 2448.86it/s]\n"
          ]
        }
      ]
    },
    {
      "cell_type": "code",
      "source": [
        "pampa_train_data.Y.hist();"
      ],
      "metadata": {
        "colab": {
          "base_uri": "https://localhost:8080/",
          "height": 265
        },
        "id": "huCtqxkQG9XD",
        "outputId": "65a50055-5dc1-445c-e9f1-463020e8556e"
      },
      "execution_count": 8,
      "outputs": [
        {
          "output_type": "display_data",
          "data": {
            "text/plain": [
              "<Figure size 432x288 with 1 Axes>"
            ],
            "image/png": "[encoded data removed]"
          },
          "metadata": {
            "needs_background": "light"
          }
        }
      ]
    },
    {
      "cell_type": "code",
      "source": [
        "pampa_valid_data.Y.hist();"
      ],
      "metadata": {
        "colab": {
          "base_uri": "https://localhost:8080/",
          "height": 265
        },
        "id": "0pYk1oJ2HBNP",
        "outputId": "34ba72ea-ba52-41d1-be49-738a73e4e52b"
      },
      "execution_count": 9,
      "outputs": [
        {
          "output_type": "display_data",
          "data": {
            "text/plain": [
              "<Figure size 432x288 with 1 Axes>"
            ],
            "image/png": "[encoded data removed]"
          },
          "metadata": {
            "needs_background": "light"
          }
        }
      ]
    },
    {
      "cell_type": "code",
      "source": [
        "scipy.stats.ks_2samp( pampa_train_data.Y, pampa_valid_data.Y )"
      ],
      "metadata": {
        "colab": {
          "base_uri": "https://localhost:8080/"
        },
        "id": "A8HqsRWCHDmI",
        "outputId": "a4cf6e29-a9bc-4752-c3f8-eb41f1d9989c"
      },
      "execution_count": 11,
      "outputs": [
        {
          "output_type": "execute_result",
          "data": {
            "text/plain": [
              "KstestResult(statistic=0.08422502933855831, pvalue=0.15072487837682302)"
            ]
          },
          "metadata": {},
          "execution_count": 11
        }
      ]
    },
    {
      "cell_type": "markdown",
      "source": [
        "# HIA (Human Intestinal Absorption), Hou et al.\n"
      ],
      "metadata": {
        "id": "alGvP_1LI6Ck"
      }
    },
    {
      "cell_type": "code",
      "source": [
        "hia_data = ADME( name='HIA_Hou' )\n",
        "hia_splitted_data = hia_data.get_split( method='scaffold' )\n",
        "hia_train_data = hia_splitted_data[ 'train' ]\n",
        "hia_valid_data = hia_splitted_data[ 'valid' ]"
      ],
      "metadata": {
        "colab": {
          "base_uri": "https://localhost:8080/"
        },
        "id": "I4eod4XwJDRT",
        "outputId": "57dabba2-3f2d-48c4-d9b7-39b4488cef85"
      },
      "execution_count": 12,
      "outputs": [
        {
          "output_type": "stream",
          "name": "stderr",
          "text": [
            "Downloading...\n",
            "100%|██████████| 40.1k/40.1k [00:00<00:00, 1.81MiB/s]\n",
            "Loading...\n",
            "Done!\n",
            "100%|██████████| 578/578 [00:00<00:00, 2982.11it/s]\n"
          ]
        }
      ]
    },
    {
      "cell_type": "code",
      "source": [
        "hia_train_data.Y.hist();"
      ],
      "metadata": {
        "colab": {
          "base_uri": "https://localhost:8080/",
          "height": 265
        },
        "id": "-Xh8u3WdJJlw",
        "outputId": "859260c5-dd3f-4ef5-8d4a-7f5c95a308bf"
      },
      "execution_count": 13,
      "outputs": [
        {
          "output_type": "display_data",
          "data": {
            "text/plain": [
              "<Figure size 432x288 with 1 Axes>"
            ],
            "image/png": "[encoded data removed]"
          },
          "metadata": {
            "needs_background": "light"
          }
        }
      ]
    },
    {
      "cell_type": "code",
      "source": [
        "hia_valid_data.Y.hist();"
      ],
      "metadata": {
        "colab": {
          "base_uri": "https://localhost:8080/",
          "height": 265
        },
        "id": "ENyUsusHJLLj",
        "outputId": "c0fae558-c635-4d4b-edbe-d94a18b80216"
      },
      "execution_count": 14,
      "outputs": [
        {
          "output_type": "display_data",
          "data": {
            "text/plain": [
              "<Figure size 432x288 with 1 Axes>"
            ],
            "image/png": "[encoded data removed]"
          },
          "metadata": {
            "needs_background": "light"
          }
        }
      ]
    },
    {
      "cell_type": "code",
      "source": [
        "scipy.stats.ks_2samp( hia_train_data.Y, hia_valid_data.Y )"
      ],
      "metadata": {
        "colab": {
          "base_uri": "https://localhost:8080/"
        },
        "id": "vZSEIPGkJNQ3",
        "outputId": "7727fdd6-4680-48cd-f00f-1ef2c7c479e0"
      },
      "execution_count": 16,
      "outputs": [
        {
          "output_type": "execute_result",
          "data": {
            "text/plain": [
              "KstestResult(statistic=0.013896126454750739, pvalue=1.0)"
            ]
          },
          "metadata": {},
          "execution_count": 16
        }
      ]
    },
    {
      "cell_type": "markdown",
      "source": [
        "# Pgp (P-glycoprotein) Inhibition, Broccatelli et al.\n"
      ],
      "metadata": {
        "id": "FMwJIzdWJcyQ"
      }
    },
    {
      "cell_type": "code",
      "source": [
        "pgp_data = ADME( name='Pgp_Broccatelli' )\n",
        "pgp_splitted_data = pgp_data.get_split( method='scaffold' )\n",
        "pgp_train_data = pgp_splitted_data[ 'train' ]\n",
        "pgp_valid_data = pgp_splitted_data[ 'valid' ]"
      ],
      "metadata": {
        "colab": {
          "base_uri": "https://localhost:8080/"
        },
        "id": "ag0yRG9uJXPV",
        "outputId": "0972f558-f30b-4216-ef2d-022a4cca554a"
      },
      "execution_count": 17,
      "outputs": [
        {
          "output_type": "stream",
          "name": "stderr",
          "text": [
            "Downloading...\n",
            "100%|██████████| 126k/126k [00:00<00:00, 3.52MiB/s]\n",
            "Loading...\n",
            "Done!\n",
            "100%|██████████| 1218/1218 [00:00<00:00, 2407.37it/s]\n"
          ]
        }
      ]
    },
    {
      "cell_type": "code",
      "source": [
        "pgp_train_data.Y.hist();"
      ],
      "metadata": {
        "colab": {
          "base_uri": "https://localhost:8080/",
          "height": 265
        },
        "id": "f85UWTyvJioz",
        "outputId": "71cc7c24-291c-4b14-9e24-780f1dcc01d3"
      },
      "execution_count": 18,
      "outputs": [
        {
          "output_type": "display_data",
          "data": {
            "text/plain": [
              "<Figure size 432x288 with 1 Axes>"
            ],
            "image/png": "[encoded data removed]"
          },
          "metadata": {
            "needs_background": "light"
          }
        }
      ]
    },
    {
      "cell_type": "code",
      "source": [
        "pgp_valid_data.Y.hist();"
      ],
      "metadata": {
        "colab": {
          "base_uri": "https://localhost:8080/",
          "height": 265
        },
        "id": "gTvACQx8Jkce",
        "outputId": "554da058-90bb-4016-9fdb-8d17fd6c1938"
      },
      "execution_count": 19,
      "outputs": [
        {
          "output_type": "display_data",
          "data": {
            "text/plain": [
              "<Figure size 432x288 with 1 Axes>"
            ],
            "image/png": "[encoded data removed]"
          },
          "metadata": {
            "needs_background": "light"
          }
        }
      ]
    },
    {
      "cell_type": "code",
      "source": [
        "scipy.stats.ks_2samp( pgp_train_data.Y, pgp_valid_data.Y )"
      ],
      "metadata": {
        "colab": {
          "base_uri": "https://localhost:8080/"
        },
        "id": "l0uhT6kwJmCf",
        "outputId": "7bd48529-fe09-46b2-e02a-c3d4788020d4"
      },
      "execution_count": 20,
      "outputs": [
        {
          "output_type": "execute_result",
          "data": {
            "text/plain": [
              "KstestResult(statistic=0.08105381600900168, pvalue=0.4626093240181409)"
            ]
          },
          "metadata": {},
          "execution_count": 20
        }
      ]
    },
    {
      "cell_type": "markdown",
      "source": [
        "# Bioavailability, Ma et al.\n"
      ],
      "metadata": {
        "id": "HGmFddXEJteA"
      }
    },
    {
      "cell_type": "code",
      "source": [
        "bioavailability_data = ADME( name='Bioavailability_Ma' )\n",
        "bioavailability_splitted_data = bioavailability_data.get_split( method='scaffold' )\n",
        "bioavailability_train_data = bioavailability_splitted_data[ 'train' ]\n",
        "bioavailability_valid_data = bioavailability_splitted_data[ 'valid' ]"
      ],
      "metadata": {
        "colab": {
          "base_uri": "https://localhost:8080/"
        },
        "id": "StYGY-CvJqa0",
        "outputId": "842738d2-1c3c-488b-8a43-1a2486fe2dc6"
      },
      "execution_count": 21,
      "outputs": [
        {
          "output_type": "stream",
          "name": "stderr",
          "text": [
            "Downloading...\n",
            "100%|██████████| 43.7k/43.7k [00:00<00:00, 1.67MiB/s]\n",
            "Loading...\n",
            "Done!\n",
            "100%|██████████| 640/640 [00:00<00:00, 801.24it/s] \n"
          ]
        }
      ]
    },
    {
      "cell_type": "code",
      "source": [
        "bioavailability_train_data.Y.hist();"
      ],
      "metadata": {
        "colab": {
          "base_uri": "https://localhost:8080/",
          "height": 265
        },
        "id": "DLcXzVBkJ1gx",
        "outputId": "426f6588-d322-4167-8a2f-b3bb7bc15a45"
      },
      "execution_count": 22,
      "outputs": [
        {
          "output_type": "display_data",
          "data": {
            "text/plain": [
              "<Figure size 432x288 with 1 Axes>"
            ],
            "image/png": "[encoded data removed]"
          },
          "metadata": {
            "needs_background": "light"
          }
        }
      ]
    },
    {
      "cell_type": "code",
      "source": [
        "bioavailability_valid_data.Y.hist();"
      ],
      "metadata": {
        "colab": {
          "base_uri": "https://localhost:8080/",
          "height": 265
        },
        "id": "sYoZGcFDJ30w",
        "outputId": "8e3427b1-85e6-48d6-e7db-6adc572f0e74"
      },
      "execution_count": 23,
      "outputs": [
        {
          "output_type": "display_data",
          "data": {
            "text/plain": [
              "<Figure size 432x288 with 1 Axes>"
            ],
            "image/png": "[encoded data removed]"
          },
          "metadata": {
            "needs_background": "light"
          }
        }
      ]
    },
    {
      "cell_type": "code",
      "source": [
        "scipy.stats.ks_2samp( bioavailability_train_data.Y, bioavailability_valid_data.Y )"
      ],
      "metadata": {
        "colab": {
          "base_uri": "https://localhost:8080/"
        },
        "id": "7d5p-OcKJ5ex",
        "outputId": "341c1f1b-aa3f-4ebd-c48d-0d003b9dbff8"
      },
      "execution_count": 24,
      "outputs": [
        {
          "output_type": "execute_result",
          "data": {
            "text/plain": [
              "KstestResult(statistic=0.029017857142857144, pvalue=0.999999999280379)"
            ]
          },
          "metadata": {},
          "execution_count": 24
        }
      ]
    },
    {
      "cell_type": "markdown",
      "source": [
        "# Lipophilicity, AstraZeneca"
      ],
      "metadata": {
        "id": "ReuyTWOdJ_sp"
      }
    },
    {
      "cell_type": "code",
      "source": [
        "lipophilicity_data = ADME( name='Lipophilicity_AstraZeneca' )\n",
        "lipophilicity_splitted_data = lipophilicity_data.get_split( method='scaffold' )\n",
        "lipophilicity_train_data = lipophilicity_splitted_data[ 'train' ]\n",
        "lipophilicity_valid_data = lipophilicity_splitted_data[ 'valid' ]"
      ],
      "metadata": {
        "colab": {
          "base_uri": "https://localhost:8080/"
        },
        "id": "k33525KyJ9dj",
        "outputId": "b5302fe4-fe32-4064-f36a-c2be91dec68f"
      },
      "execution_count": 25,
      "outputs": [
        {
          "output_type": "stream",
          "name": "stderr",
          "text": [
            "Downloading...\n",
            "100%|██████████| 298k/298k [00:00<00:00, 5.49MiB/s]\n",
            "Loading...\n",
            "Done!\n",
            "100%|██████████| 4200/4200 [00:01<00:00, 2384.91it/s]\n"
          ]
        }
      ]
    },
    {
      "cell_type": "code",
      "source": [
        "lipophilicity_train_data.Y.hist();"
      ],
      "metadata": {
        "colab": {
          "base_uri": "https://localhost:8080/",
          "height": 266
        },
        "id": "yLuJXqgeKIp4",
        "outputId": "0ccf67c5-049e-4268-d650-e4f910995da0"
      },
      "execution_count": 26,
      "outputs": [
        {
          "output_type": "display_data",
          "data": {
            "text/plain": [
              "<Figure size 432x288 with 1 Axes>"
            ],
            "image/png": "[encoded data removed]"
          },
          "metadata": {
            "needs_background": "light"
          }
        }
      ]
    },
    {
      "cell_type": "code",
      "source": [
        "lipophilicity_valid_data.Y.hist();"
      ],
      "metadata": {
        "colab": {
          "base_uri": "https://localhost:8080/",
          "height": 265
        },
        "id": "t3IGuky-KK9g",
        "outputId": "af99a4e1-0e73-4e1d-b364-6d988c0b765a"
      },
      "execution_count": 28,
      "outputs": [
        {
          "output_type": "display_data",
          "data": {
            "text/plain": [
              "<Figure size 432x288 with 1 Axes>"
            ],
            "image/png": "[encoded data removed]"
          },
          "metadata": {
            "needs_background": "light"
          }
        }
      ]
    },
    {
      "cell_type": "code",
      "source": [
        "scipy.stats.ks_2samp( lipophilicity_train_data.Y, lipophilicity_valid_data.Y )"
      ],
      "metadata": {
        "colab": {
          "base_uri": "https://localhost:8080/"
        },
        "id": "RsCi-GL7KOaK",
        "outputId": "5b4851c6-731c-442c-ff26-7af330cd8a48"
      },
      "execution_count": 29,
      "outputs": [
        {
          "output_type": "execute_result",
          "data": {
            "text/plain": [
              "KstestResult(statistic=0.04897959183673469, pvalue=0.33320982695249235)"
            ]
          },
          "metadata": {},
          "execution_count": 29
        }
      ]
    },
    {
      "cell_type": "markdown",
      "source": [
        "# Solubility, AqSolDB"
      ],
      "metadata": {
        "id": "ng0flrg4KYMl"
      }
    },
    {
      "cell_type": "code",
      "source": [
        "solubility_data = ADME( name='Solubility_AqSolDB' )\n",
        "solubility_splitted_data = solubility_data.get_split( method='scaffold' )\n",
        "solubility_train_data = solubility_splitted_data[ 'train' ]\n",
        "solubility_valid_data = solubility_splitted_data[ 'valid' ]"
      ],
      "metadata": {
        "colab": {
          "base_uri": "https://localhost:8080/"
        },
        "id": "kyuG_FuHKWYb",
        "outputId": "bf32d92c-8c4f-4304-ac46-ef26ce12e9df"
      },
      "execution_count": 30,
      "outputs": [
        {
          "output_type": "stream",
          "name": "stderr",
          "text": [
            "Downloading...\n",
            "100%|██████████| 853k/853k [00:00<00:00, 9.05MiB/s]\n",
            "Loading...\n",
            "Done!\n",
            "100%|██████████| 9982/9982 [00:04<00:00, 2400.99it/s]\n"
          ]
        }
      ]
    },
    {
      "cell_type": "code",
      "source": [
        "solubility_train_data.Y.hist();"
      ],
      "metadata": {
        "colab": {
          "base_uri": "https://localhost:8080/",
          "height": 265
        },
        "id": "ENNYMehgKhZ7",
        "outputId": "d8092ba0-f3d0-4ad1-9551-703d31f82ee9"
      },
      "execution_count": 31,
      "outputs": [
        {
          "output_type": "display_data",
          "data": {
            "text/plain": [
              "<Figure size 432x288 with 1 Axes>"
            ],
            "image/png": "[encoded data removed]"
          },
          "metadata": {
            "needs_background": "light"
          }
        }
      ]
    },
    {
      "cell_type": "code",
      "source": [
        "solubility_valid_data.Y.hist();"
      ],
      "metadata": {
        "colab": {
          "base_uri": "https://localhost:8080/",
          "height": 268
        },
        "id": "-Ifv-w53Kk8S",
        "outputId": "8104c69e-b0b0-4c8d-f06a-276d4b8b3f71"
      },
      "execution_count": 33,
      "outputs": [
        {
          "output_type": "display_data",
          "data": {
            "text/plain": [
              "<Figure size 432x288 with 1 Axes>"
            ],
            "image/png": "[encoded data removed]"
          },
          "metadata": {
            "needs_background": "light"
          }
        }
      ]
    },
    {
      "cell_type": "code",
      "source": [
        "scipy.stats.ks_2samp( solubility_train_data.Y, solubility_valid_data.Y )"
      ],
      "metadata": {
        "colab": {
          "base_uri": "https://localhost:8080/"
        },
        "id": "vn5u49FbKo0Y",
        "outputId": "4555ce20-e67d-4a0e-b13d-a6a83f914623"
      },
      "execution_count": 35,
      "outputs": [
        {
          "output_type": "execute_result",
          "data": {
            "text/plain": [
              "KstestResult(statistic=0.22391742121713012, pvalue=6.17272674364578e-39)"
            ]
          },
          "metadata": {},
          "execution_count": 35
        }
      ]
    },
    {
      "cell_type": "markdown",
      "source": [
        "# Hydration Free Energy, FreeSolv"
      ],
      "metadata": {
        "id": "SLRttRiCKy5O"
      }
    },
    {
      "cell_type": "code",
      "source": [
        "hydration_data = ADME( name='HydrationFreeEnergy_FreeSolv' )\n",
        "hydration_splitted_data = hydration_data.get_split( method='scaffold' )\n",
        "hydration_train_data = hydration_splitted_data[ 'train' ]\n",
        "hydration_valid_data = hydration_splitted_data[ 'valid' ]"
      ],
      "metadata": {
        "colab": {
          "base_uri": "https://localhost:8080/"
        },
        "id": "tCHqRnxpK0Rq",
        "outputId": "8fc309d2-bf12-4654-8d6d-61bc6f26769b"
      },
      "execution_count": 36,
      "outputs": [
        {
          "output_type": "stream",
          "name": "stderr",
          "text": [
            "Downloading...\n",
            "100%|██████████| 29.0k/29.0k [00:00<00:00, 5.20MiB/s]\n",
            "Loading...\n",
            "Done!\n",
            "100%|██████████| 642/642 [00:00<00:00, 3256.59it/s]\n"
          ]
        }
      ]
    },
    {
      "cell_type": "code",
      "source": [
        "hydration_train_data.Y.hist();"
      ],
      "metadata": {
        "colab": {
          "base_uri": "https://localhost:8080/",
          "height": 265
        },
        "id": "5ZU_5EyAK8tQ",
        "outputId": "23e75715-0190-4eef-da05-24a84876915d"
      },
      "execution_count": 37,
      "outputs": [
        {
          "output_type": "display_data",
          "data": {
            "text/plain": [
              "<Figure size 432x288 with 1 Axes>"
            ],
            "image/png": "[encoded data removed]"
          },
          "metadata": {
            "needs_background": "light"
          }
        }
      ]
    },
    {
      "cell_type": "code",
      "source": [
        "hydration_valid_data.Y.hist();"
      ],
      "metadata": {
        "colab": {
          "base_uri": "https://localhost:8080/",
          "height": 265
        },
        "id": "IG48ELFsK-eQ",
        "outputId": "12bcec72-d112-4421-90cd-b370640041fa"
      },
      "execution_count": 38,
      "outputs": [
        {
          "output_type": "display_data",
          "data": {
            "text/plain": [
              "<Figure size 432x288 with 1 Axes>"
            ],
            "image/png": "[encoded data removed]"
          },
          "metadata": {
            "needs_background": "light"
          }
        }
      ]
    },
    {
      "cell_type": "code",
      "source": [
        "scipy.stats.ks_2samp( hydration_train_data.Y, hydration_valid_data.Y )"
      ],
      "metadata": {
        "colab": {
          "base_uri": "https://localhost:8080/"
        },
        "id": "-QC5fWHZLAxz",
        "outputId": "6c668a6d-f3b4-4f56-e5cf-510ebde11db1"
      },
      "execution_count": 39,
      "outputs": [
        {
          "output_type": "execute_result",
          "data": {
            "text/plain": [
              "KstestResult(statistic=0.47112825248519746, pvalue=3.701880857409634e-08)"
            ]
          },
          "metadata": {},
          "execution_count": 39
        }
      ]
    }
  ]
}