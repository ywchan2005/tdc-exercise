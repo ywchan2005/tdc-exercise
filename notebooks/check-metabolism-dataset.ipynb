{
  "nbformat": 4,
  "nbformat_minor": 0,
  "metadata": {
    "colab": {
      "provenance": []
    },
    "kernelspec": {
      "name": "python3",
      "display_name": "Python 3"
    },
    "language_info": {
      "name": "python"
    }
  },
  "cells": [
    {
      "cell_type": "code",
      "source": [
        "from tdc.single_pred import ADME\n",
        "import scipy.stats"
      ],
      "metadata": {
        "id": "Lq2hp0DWGM92"
      },
      "execution_count": 2,
      "outputs": []
    },
    {
      "cell_type": "markdown",
      "source": [
        "# CYP P450 2C19 Inhibition, Veith et al."
      ],
      "metadata": {
        "id": "yN3rRSQkHIkU"
      }
    },
    {
      "cell_type": "code",
      "source": [
        "cyp2c19_data = ADME( name='CYP2C19_Veith' )\n",
        "cyp2c19_splitted_data = cyp2c19_data.get_split( method='scaffold' )\n",
        "cyp2c19_train_data = cyp2c19_splitted_data[ 'train' ]\n",
        "cyp2c19_valid_data = cyp2c19_splitted_data[ 'valid' ]"
      ],
      "metadata": {
        "colab": {
          "base_uri": "https://localhost:8080/"
        },
        "id": "4lzM1iNCGRMl",
        "outputId": "63a797fe-eb3c-4ef4-d31a-59d29cdb4544"
      },
      "execution_count": 3,
      "outputs": [
        {
          "output_type": "stream",
          "name": "stderr",
          "text": [
            "Downloading...\n",
            "100%|██████████| 771k/771k [00:00<00:00, 9.82MiB/s]\n",
            "Loading...\n",
            "Done!\n",
            "100%|██████████| 12665/12665 [00:05<00:00, 2490.05it/s]\n"
          ]
        }
      ]
    },
    {
      "cell_type": "code",
      "source": [
        "cyp2c19_train_data.Y.hist();"
      ],
      "metadata": {
        "colab": {
          "base_uri": "https://localhost:8080/",
          "height": 265
        },
        "id": "i_I3ngBNGVtW",
        "outputId": "49272a94-9933-4373-9b89-517a48824b29"
      },
      "execution_count": 4,
      "outputs": [
        {
          "output_type": "display_data",
          "data": {
            "text/plain": [
              "<Figure size 432x288 with 1 Axes>"
            ],
            "image/png": "[encoded data removed]"
          },
          "metadata": {
            "needs_background": "light"
          }
        }
      ]
    },
    {
      "cell_type": "code",
      "source": [
        "cyp2c19_valid_data.Y.hist();"
      ],
      "metadata": {
        "colab": {
          "base_uri": "https://localhost:8080/",
          "height": 265
        },
        "id": "rtTi2qkpGaQb",
        "outputId": "ab1dd318-7339-4b2a-e87f-55e44d69f923"
      },
      "execution_count": 5,
      "outputs": [
        {
          "output_type": "display_data",
          "data": {
            "text/plain": [
              "<Figure size 432x288 with 1 Axes>"
            ],
            "image/png": "[encoded data removed]"
          },
          "metadata": {
            "needs_background": "light"
          }
        }
      ]
    },
    {
      "cell_type": "code",
      "source": [
        "scipy.stats.ks_2samp( cyp2c19_train_data.Y, cyp2c19_valid_data.Y )"
      ],
      "metadata": {
        "colab": {
          "base_uri": "https://localhost:8080/"
        },
        "id": "oo2Z5zpTGmYY",
        "outputId": "ae2dd1b7-6c4c-4557-d15b-37e036227d3a"
      },
      "execution_count": 6,
      "outputs": [
        {
          "output_type": "execute_result",
          "data": {
            "text/plain": [
              "KstestResult(statistic=0.02745981721611428, pvalue=0.3663694242407083)"
            ]
          },
          "metadata": {},
          "execution_count": 6
        }
      ]
    },
    {
      "cell_type": "markdown",
      "source": [
        "# CYP P450 2D6 Inhibition, Veith et al."
      ],
      "metadata": {
        "id": "a1hRpeu6HTzZ"
      }
    },
    {
      "cell_type": "code",
      "source": [
        "cyp2d6_data = ADME( name='CYP2D6_Veith' )\n",
        "cyp2d6_splitted_data = cyp2d6_data.get_split( method='scaffold' )\n",
        "cyp2d6_train_data = cyp2d6_splitted_data[ 'train' ]\n",
        "cyp2d6_valid_data = cyp2d6_splitted_data[ 'valid' ]"
      ],
      "metadata": {
        "colab": {
          "base_uri": "https://localhost:8080/"
        },
        "id": "eObJtQf4GxQl",
        "outputId": "7afaddba-16ad-4ecf-a4d7-0f30febbe179"
      },
      "execution_count": 7,
      "outputs": [
        {
          "output_type": "stream",
          "name": "stderr",
          "text": [
            "Downloading...\n",
            "100%|██████████| 800k/800k [00:00<00:00, 9.81MiB/s]\n",
            "Loading...\n",
            "Done!\n",
            "100%|██████████| 13130/13130 [00:11<00:00, 1109.35it/s]\n"
          ]
        }
      ]
    },
    {
      "cell_type": "code",
      "source": [
        "cyp2d6_train_data.Y.hist();"
      ],
      "metadata": {
        "colab": {
          "base_uri": "https://localhost:8080/",
          "height": 265
        },
        "id": "huCtqxkQG9XD",
        "outputId": "78aaeb6c-1008-4d5a-8a61-fb26fd29fff5"
      },
      "execution_count": 8,
      "outputs": [
        {
          "output_type": "display_data",
          "data": {
            "text/plain": [
              "<Figure size 432x288 with 1 Axes>"
            ],
            "image/png": "[encoded data removed]"
          },
          "metadata": {
            "needs_background": "light"
          }
        }
      ]
    },
    {
      "cell_type": "code",
      "source": [
        "cyp2d6_valid_data.Y.hist();"
      ],
      "metadata": {
        "colab": {
          "base_uri": "https://localhost:8080/",
          "height": 265
        },
        "id": "0pYk1oJ2HBNP",
        "outputId": "92e561d9-af65-4ad5-d1ea-ac8503dd85b7"
      },
      "execution_count": 9,
      "outputs": [
        {
          "output_type": "display_data",
          "data": {
            "text/plain": [
              "<Figure size 432x288 with 1 Axes>"
            ],
            "image/png": "[encoded data removed]"
          },
          "metadata": {
            "needs_background": "light"
          }
        }
      ]
    },
    {
      "cell_type": "code",
      "source": [
        "scipy.stats.ks_2samp( cyp2d6_train_data.Y, cyp2d6_valid_data.Y )"
      ],
      "metadata": {
        "colab": {
          "base_uri": "https://localhost:8080/"
        },
        "id": "A8HqsRWCHDmI",
        "outputId": "69e4ad9c-13eb-4c5e-d6f8-61d194d5019a"
      },
      "execution_count": 10,
      "outputs": [
        {
          "output_type": "execute_result",
          "data": {
            "text/plain": [
              "KstestResult(statistic=0.014688282015014688, pvalue=0.9630154077334165)"
            ]
          },
          "metadata": {},
          "execution_count": 10
        }
      ]
    },
    {
      "cell_type": "markdown",
      "source": [
        "# CYP P450 3A4 Inhibition, Veith et al.\n"
      ],
      "metadata": {
        "id": "alGvP_1LI6Ck"
      }
    },
    {
      "cell_type": "code",
      "source": [
        "cyp3a4_data = ADME( name='CYP3A4_Veith' )\n",
        "cyp3a4_splitted_data = cyp3a4_data.get_split( method='scaffold' )\n",
        "cyp3a4_train_data = cyp3a4_splitted_data[ 'train' ]\n",
        "cyp3a4_valid_data = cyp3a4_splitted_data[ 'valid' ]"
      ],
      "metadata": {
        "colab": {
          "base_uri": "https://localhost:8080/"
        },
        "id": "I4eod4XwJDRT",
        "outputId": "52fef833-6615-4342-d1e2-2346768c6b63"
      },
      "execution_count": 12,
      "outputs": [
        {
          "output_type": "stream",
          "name": "stderr",
          "text": [
            "Downloading...\n",
            "100%|██████████| 746k/746k [00:00<00:00, 6.16MiB/s]\n",
            "Loading...\n",
            "Done!\n",
            "100%|██████████| 12328/12328 [00:05<00:00, 2321.59it/s]\n"
          ]
        }
      ]
    },
    {
      "cell_type": "code",
      "source": [
        "cyp3a4_train_data.Y.hist();"
      ],
      "metadata": {
        "colab": {
          "base_uri": "https://localhost:8080/",
          "height": 265
        },
        "id": "-Xh8u3WdJJlw",
        "outputId": "7d319844-fa9c-4b39-c8e9-504bd938d11c"
      },
      "execution_count": 13,
      "outputs": [
        {
          "output_type": "display_data",
          "data": {
            "text/plain": [
              "<Figure size 432x288 with 1 Axes>"
            ],
            "image/png": "[encoded data removed]"
          },
          "metadata": {
            "needs_background": "light"
          }
        }
      ]
    },
    {
      "cell_type": "code",
      "source": [
        "cyp3a4_valid_data.Y.hist();"
      ],
      "metadata": {
        "colab": {
          "base_uri": "https://localhost:8080/",
          "height": 265
        },
        "id": "ENyUsusHJLLj",
        "outputId": "76de4a60-c41a-4ad6-fcd4-8e8b634bd489"
      },
      "execution_count": 14,
      "outputs": [
        {
          "output_type": "display_data",
          "data": {
            "text/plain": [
              "<Figure size 432x288 with 1 Axes>"
            ],
            "image/png": "[encoded data removed]"
          },
          "metadata": {
            "needs_background": "light"
          }
        }
      ]
    },
    {
      "cell_type": "code",
      "source": [
        "scipy.stats.ks_2samp( cyp3a4_train_data.Y, cyp3a4_valid_data.Y )"
      ],
      "metadata": {
        "colab": {
          "base_uri": "https://localhost:8080/"
        },
        "id": "vZSEIPGkJNQ3",
        "outputId": "ac9e6c5c-2b2e-42bd-f307-3b2193e30fc7"
      },
      "execution_count": 16,
      "outputs": [
        {
          "output_type": "execute_result",
          "data": {
            "text/plain": [
              "KstestResult(statistic=0.04336912073903614, pvalue=0.03352540245085611)"
            ]
          },
          "metadata": {},
          "execution_count": 16
        }
      ]
    },
    {
      "cell_type": "markdown",
      "source": [
        "# CYP P450 1A2 Inhibition, Veith et al."
      ],
      "metadata": {
        "id": "FMwJIzdWJcyQ"
      }
    },
    {
      "cell_type": "code",
      "source": [
        "cyp1a2_data = ADME( name='CYP1A2_Veith' )\n",
        "cyp1a2_splitted_data = cyp1a2_data.get_split( method='scaffold' )\n",
        "cyp1a2_train_data = cyp1a2_splitted_data[ 'train' ]\n",
        "cyp1a2_valid_data = cyp1a2_splitted_data[ 'valid' ]"
      ],
      "metadata": {
        "colab": {
          "base_uri": "https://localhost:8080/"
        },
        "id": "ag0yRG9uJXPV",
        "outputId": "51330088-d1c4-43b2-bd74-7a2f2b681aa9"
      },
      "execution_count": 17,
      "outputs": [
        {
          "output_type": "stream",
          "name": "stderr",
          "text": [
            "Downloading...\n",
            "100%|██████████| 760k/760k [00:00<00:00, 10.1MiB/s]\n",
            "Loading...\n",
            "Done!\n",
            "100%|██████████| 12579/12579 [00:05<00:00, 2321.40it/s]\n"
          ]
        }
      ]
    },
    {
      "cell_type": "code",
      "source": [
        "cyp1a2_train_data.Y.hist();"
      ],
      "metadata": {
        "colab": {
          "base_uri": "https://localhost:8080/",
          "height": 265
        },
        "id": "f85UWTyvJioz",
        "outputId": "71cc7c24-291c-4b14-9e24-780f1dcc01d3"
      },
      "execution_count": null,
      "outputs": [
        {
          "output_type": "display_data",
          "data": {
            "text/plain": [
              "<Figure size 432x288 with 1 Axes>"
            ],
            "image/png": "[encoded data removed]"
          },
          "metadata": {
            "needs_background": "light"
          }
        }
      ]
    },
    {
      "cell_type": "code",
      "source": [
        "cyp1a2_valid_data.Y.hist();"
      ],
      "metadata": {
        "colab": {
          "base_uri": "https://localhost:8080/",
          "height": 265
        },
        "id": "gTvACQx8Jkce",
        "outputId": "cb0a9eee-8043-45b3-bd5f-5357ed3aeb64"
      },
      "execution_count": 18,
      "outputs": [
        {
          "output_type": "display_data",
          "data": {
            "text/plain": [
              "<Figure size 432x288 with 1 Axes>"
            ],
            "image/png": "[encoded data removed]"
          },
          "metadata": {
            "needs_background": "light"
          }
        }
      ]
    },
    {
      "cell_type": "code",
      "source": [
        "scipy.stats.ks_2samp( cyp1a2_train_data.Y, cyp1a2_valid_data.Y )"
      ],
      "metadata": {
        "colab": {
          "base_uri": "https://localhost:8080/"
        },
        "id": "l0uhT6kwJmCf",
        "outputId": "1102f778-c59e-4037-ec37-5f0ec380cd75"
      },
      "execution_count": 19,
      "outputs": [
        {
          "output_type": "execute_result",
          "data": {
            "text/plain": [
              "KstestResult(statistic=0.05076525460826527, pvalue=0.006630597002637795)"
            ]
          },
          "metadata": {},
          "execution_count": 19
        }
      ]
    },
    {
      "cell_type": "markdown",
      "source": [
        "# CYP P450 2C9 Inhibition, Veith et al.\n"
      ],
      "metadata": {
        "id": "HGmFddXEJteA"
      }
    },
    {
      "cell_type": "code",
      "source": [
        "cyp2c9_data = ADME( name='CYP2C9_Veith' )\n",
        "cyp2c9_splitted_data = cyp2c9_data.get_split( method='scaffold' )\n",
        "cyp2c9_train_data = cyp2c9_splitted_data[ 'train' ]\n",
        "cyp2c9_valid_data = cyp2c9_splitted_data[ 'valid' ]"
      ],
      "metadata": {
        "colab": {
          "base_uri": "https://localhost:8080/"
        },
        "id": "StYGY-CvJqa0",
        "outputId": "556150c6-91cd-4e53-baf9-1b8124565603"
      },
      "execution_count": 20,
      "outputs": [
        {
          "output_type": "stream",
          "name": "stderr",
          "text": [
            "Downloading...\n",
            "100%|██████████| 740k/740k [00:00<00:00, 7.81MiB/s]\n",
            "Loading...\n",
            "Done!\n",
            "100%|██████████| 12092/12092 [00:05<00:00, 2192.80it/s]\n"
          ]
        }
      ]
    },
    {
      "cell_type": "code",
      "source": [
        "cyp2c9_train_data.Y.hist();"
      ],
      "metadata": {
        "colab": {
          "base_uri": "https://localhost:8080/",
          "height": 265
        },
        "id": "DLcXzVBkJ1gx",
        "outputId": "57a54cb3-9b79-4387-ac00-c9e60656121f"
      },
      "execution_count": 21,
      "outputs": [
        {
          "output_type": "display_data",
          "data": {
            "text/plain": [
              "<Figure size 432x288 with 1 Axes>"
            ],
            "image/png": "[encoded data removed]"
          },
          "metadata": {
            "needs_background": "light"
          }
        }
      ]
    },
    {
      "cell_type": "code",
      "source": [
        "cyp2c9_valid_data.Y.hist();"
      ],
      "metadata": {
        "colab": {
          "base_uri": "https://localhost:8080/",
          "height": 265
        },
        "id": "sYoZGcFDJ30w",
        "outputId": "c200ca99-5367-426c-a2e5-b0fd51917ce3"
      },
      "execution_count": 23,
      "outputs": [
        {
          "output_type": "display_data",
          "data": {
            "text/plain": [
              "<Figure size 432x288 with 1 Axes>"
            ],
            "image/png": "[encoded data removed]"
          },
          "metadata": {
            "needs_background": "light"
          }
        }
      ]
    },
    {
      "cell_type": "code",
      "source": [
        "scipy.stats.ks_2samp( cyp2c9_train_data.Y, cyp2c9_valid_data.Y )"
      ],
      "metadata": {
        "colab": {
          "base_uri": "https://localhost:8080/"
        },
        "id": "7d5p-OcKJ5ex",
        "outputId": "fb6fffee-3144-4f31-8416-92748fb1abe5"
      },
      "execution_count": 24,
      "outputs": [
        {
          "output_type": "execute_result",
          "data": {
            "text/plain": [
              "KstestResult(statistic=0.004095582751293465, pvalue=1.0)"
            ]
          },
          "metadata": {},
          "execution_count": 24
        }
      ]
    },
    {
      "cell_type": "markdown",
      "source": [
        "# CYP2C9 Substrate, Carbon-Mangels et al."
      ],
      "metadata": {
        "id": "ReuyTWOdJ_sp"
      }
    },
    {
      "cell_type": "code",
      "source": [
        "cyp2c9_data = ADME( name='CYP2C9_Substrate_CarbonMangels' )\n",
        "cyp2c9_splitted_data = cyp2c9_data.get_split( method='scaffold' )\n",
        "cyp2c9_train_data = cyp2c9_splitted_data[ 'train' ]\n",
        "cyp2c9_valid_data = cyp2c9_splitted_data[ 'valid' ]"
      ],
      "metadata": {
        "colab": {
          "base_uri": "https://localhost:8080/"
        },
        "id": "k33525KyJ9dj",
        "outputId": "6322b085-f792-4e16-f4dc-9828d1c103af"
      },
      "execution_count": 25,
      "outputs": [
        {
          "output_type": "stream",
          "name": "stderr",
          "text": [
            "Downloading...\n",
            "100%|██████████| 45.6k/45.6k [00:00<00:00, 2.05MiB/s]\n",
            "Loading...\n",
            "Done!\n",
            "100%|██████████| 669/669 [00:00<00:00, 1307.17it/s]\n"
          ]
        }
      ]
    },
    {
      "cell_type": "code",
      "source": [
        "cyp2c9_train_data.Y.hist();"
      ],
      "metadata": {
        "colab": {
          "base_uri": "https://localhost:8080/",
          "height": 265
        },
        "id": "yLuJXqgeKIp4",
        "outputId": "1f2b0130-277d-43be-94ab-f8116c7f47d0"
      },
      "execution_count": 26,
      "outputs": [
        {
          "output_type": "display_data",
          "data": {
            "text/plain": [
              "<Figure size 432x288 with 1 Axes>"
            ],
            "image/png": "[encoded data removed]"
          },
          "metadata": {
            "needs_background": "light"
          }
        }
      ]
    },
    {
      "cell_type": "code",
      "source": [
        "cyp2c9_valid_data.Y.hist();"
      ],
      "metadata": {
        "colab": {
          "base_uri": "https://localhost:8080/",
          "height": 265
        },
        "id": "t3IGuky-KK9g",
        "outputId": "95eb943f-ab35-4f21-f90e-8ebd52b6c0e1"
      },
      "execution_count": 27,
      "outputs": [
        {
          "output_type": "display_data",
          "data": {
            "text/plain": [
              "<Figure size 432x288 with 1 Axes>"
            ],
            "image/png": "[encoded data removed]"
          },
          "metadata": {
            "needs_background": "light"
          }
        }
      ]
    },
    {
      "cell_type": "code",
      "source": [
        "scipy.stats.ks_2samp( cyp2c9_train_data.Y, cyp2c9_valid_data.Y )"
      ],
      "metadata": {
        "colab": {
          "base_uri": "https://localhost:8080/"
        },
        "id": "RsCi-GL7KOaK",
        "outputId": "9665edf1-6822-4948-cd27-153fa0f42423"
      },
      "execution_count": 29,
      "outputs": [
        {
          "output_type": "execute_result",
          "data": {
            "text/plain": [
              "KstestResult(statistic=0.004662004662004662, pvalue=1)"
            ]
          },
          "metadata": {},
          "execution_count": 29
        }
      ]
    },
    {
      "cell_type": "markdown",
      "source": [
        "# CYP2D6 Substrate, Carbon-Mangels et al."
      ],
      "metadata": {
        "id": "ng0flrg4KYMl"
      }
    },
    {
      "cell_type": "code",
      "source": [
        "cyp2d6_data = ADME( name='CYP2D6_Substrate_CarbonMangels' )\n",
        "cyp2d6_splitted_data = cyp2d6_data.get_split( method='scaffold' )\n",
        "cyp2d6_train_data = cyp2d6_splitted_data[ 'train' ]\n",
        "cyp2d6_valid_data = cyp2d6_splitted_data[ 'valid' ]"
      ],
      "metadata": {
        "colab": {
          "base_uri": "https://localhost:8080/"
        },
        "id": "kyuG_FuHKWYb",
        "outputId": "07100c42-6dc4-4eb6-faad-ec71a4a07665"
      },
      "execution_count": 30,
      "outputs": [
        {
          "output_type": "stream",
          "name": "stderr",
          "text": [
            "Downloading...\n",
            "100%|██████████| 45.4k/45.4k [00:00<00:00, 2.65MiB/s]\n",
            "Loading...\n",
            "Done!\n",
            "100%|██████████| 667/667 [00:00<00:00, 2639.52it/s]\n"
          ]
        }
      ]
    },
    {
      "cell_type": "code",
      "source": [
        "cyp2d6_train_data.Y.hist();"
      ],
      "metadata": {
        "colab": {
          "base_uri": "https://localhost:8080/",
          "height": 267
        },
        "id": "ENNYMehgKhZ7",
        "outputId": "96677b7c-55d5-4387-d58c-beb3f85c2a5d"
      },
      "execution_count": 31,
      "outputs": [
        {
          "output_type": "display_data",
          "data": {
            "text/plain": [
              "<Figure size 432x288 with 1 Axes>"
            ],
            "image/png": "[encoded data removed]"
          },
          "metadata": {
            "needs_background": "light"
          }
        }
      ]
    },
    {
      "cell_type": "code",
      "source": [
        "cyp2d6_valid_data.Y.hist();"
      ],
      "metadata": {
        "colab": {
          "base_uri": "https://localhost:8080/",
          "height": 265
        },
        "id": "-Ifv-w53Kk8S",
        "outputId": "b6e00524-b663-408a-8752-4bdcb3715594"
      },
      "execution_count": 32,
      "outputs": [
        {
          "output_type": "display_data",
          "data": {
            "text/plain": [
              "<Figure size 432x288 with 1 Axes>"
            ],
            "image/png": "[encoded data removed]"
          },
          "metadata": {
            "needs_background": "light"
          }
        }
      ]
    },
    {
      "cell_type": "code",
      "source": [
        "scipy.stats.ks_2samp( cyp2d6_train_data.Y, cyp2d6_valid_data.Y )"
      ],
      "metadata": {
        "colab": {
          "base_uri": "https://localhost:8080/"
        },
        "id": "vn5u49FbKo0Y",
        "outputId": "cd4c12bb-869f-43ff-e5f1-a9f0f6e617a9"
      },
      "execution_count": 33,
      "outputs": [
        {
          "output_type": "execute_result",
          "data": {
            "text/plain": [
              "KstestResult(statistic=0.01105475354402393, pvalue=1.0)"
            ]
          },
          "metadata": {},
          "execution_count": 33
        }
      ]
    },
    {
      "cell_type": "markdown",
      "source": [
        "# CYP3A4 Substrate, Carbon-Mangels et al."
      ],
      "metadata": {
        "id": "SLRttRiCKy5O"
      }
    },
    {
      "cell_type": "code",
      "source": [
        "cyp3a4_data = ADME( name='CYP3A4_Substrate_CarbonMangels' )\n",
        "cyp3a4_splitted_data = cyp3a4_data.get_split( method='scaffold' )\n",
        "cyp3a4_train_data = cyp3a4_splitted_data[ 'train' ]\n",
        "cyp3a4_valid_data = cyp3a4_splitted_data[ 'valid' ]"
      ],
      "metadata": {
        "colab": {
          "base_uri": "https://localhost:8080/"
        },
        "id": "tCHqRnxpK0Rq",
        "outputId": "21d5c236-1cbc-4b25-c89a-ece5a4dc2af1"
      },
      "execution_count": 34,
      "outputs": [
        {
          "output_type": "stream",
          "name": "stderr",
          "text": [
            "Downloading...\n",
            "100%|██████████| 46.0k/46.0k [00:00<00:00, 2.70MiB/s]\n",
            "Loading...\n",
            "Done!\n",
            "100%|██████████| 670/670 [00:00<00:00, 2472.24it/s]\n"
          ]
        }
      ]
    },
    {
      "cell_type": "code",
      "source": [
        "cyp3a4_train_data.Y.hist();"
      ],
      "metadata": {
        "colab": {
          "base_uri": "https://localhost:8080/",
          "height": 265
        },
        "id": "5ZU_5EyAK8tQ",
        "outputId": "28dde1bc-d4a5-40f9-83f8-295fe508772b"
      },
      "execution_count": 35,
      "outputs": [
        {
          "output_type": "display_data",
          "data": {
            "text/plain": [
              "<Figure size 432x288 with 1 Axes>"
            ],
            "image/png": "[encoded data removed]"
          },
          "metadata": {
            "needs_background": "light"
          }
        }
      ]
    },
    {
      "cell_type": "code",
      "source": [
        "cyp3a4_valid_data.Y.hist();"
      ],
      "metadata": {
        "colab": {
          "base_uri": "https://localhost:8080/",
          "height": 265
        },
        "id": "IG48ELFsK-eQ",
        "outputId": "332f6421-5776-48ac-e973-b0a0e26b81b1"
      },
      "execution_count": 36,
      "outputs": [
        {
          "output_type": "display_data",
          "data": {
            "text/plain": [
              "<Figure size 432x288 with 1 Axes>"
            ],
            "image/png": "[encoded data removed]"
          },
          "metadata": {
            "needs_background": "light"
          }
        }
      ]
    },
    {
      "cell_type": "code",
      "source": [
        "scipy.stats.ks_2samp( cyp3a4_train_data.Y, cyp3a4_valid_data.Y )"
      ],
      "metadata": {
        "colab": {
          "base_uri": "https://localhost:8080/"
        },
        "id": "-QC5fWHZLAxz",
        "outputId": "6c3a56de-e143-4999-d398-1786a010449c"
      },
      "execution_count": 37,
      "outputs": [
        {
          "output_type": "execute_result",
          "data": {
            "text/plain": [
              "KstestResult(statistic=0.07567929582854956, pvalue=0.861704782012197)"
            ]
          },
          "metadata": {},
          "execution_count": 37
        }
      ]
    }
  ]
}