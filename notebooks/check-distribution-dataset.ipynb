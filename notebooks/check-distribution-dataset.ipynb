{
  "cells": [
    {
      "cell_type": "code",
      "execution_count": 11,
      "metadata": {
        "id": "Lq2hp0DWGM92"
      },
      "outputs": [],
      "source": [
        "from tdc.single_pred import ADME\n",
        "import scipy.stats"
      ]
    },
    {
      "cell_type": "markdown",
      "metadata": {
        "id": "nbQkixrXXTJu"
      },
      "source": [
        "# BBB (Blood-Brain Barrier), Martins et al."
      ]
    },
    {
      "cell_type": "code",
      "execution_count": 18,
      "metadata": {
        "colab": {
          "base_uri": "https://localhost:8080/"
        },
        "id": "zSXN5LR-XVa9",
        "outputId": "b326f7d2-1328-48b1-d2f7-554161ce8fe7"
      },
      "outputs": [
        {
          "name": "stderr",
          "output_type": "stream",
          "text": [
            "Downloading...\n",
            "100%|██████████| 138k/138k [00:00<00:00, 1.11MiB/s]\n",
            "Loading...\n",
            "Done!\n",
            "100%|██████████| 2030/2030 [00:00<00:00, 2578.42it/s]\n"
          ]
        }
      ],
      "source": [
        "bbb_data = ADME( name='BBB_Martins' )\n",
        "bbb_splitted_data = bbb_data.get_split( method='scaffold' )\n",
        "bbb_train_data = bbb_splitted_data[ 'train' ]\n",
        "bbb_valid_data = bbb_splitted_data[ 'valid' ]"
      ]
    },
    {
      "cell_type": "code",
      "execution_count": 19,
      "metadata": {
        "colab": {
          "base_uri": "https://localhost:8080/",
          "height": 265
        },
        "id": "wZy_YzdOXdCD",
        "outputId": "0069e5d8-7bce-4eb9-ba15-236cba5b354e"
      },
      "outputs": [
        {
          "data": {
            "image/png": "[encoded data removed]",
            "text/plain": [
              "<Figure size 432x288 with 1 Axes>"
            ]
          },
          "metadata": {
            "needs_background": "light"
          },
          "output_type": "display_data"
        }
      ],
      "source": [
        "bbb_train_data.Y.hist();"
      ]
    },
    {
      "cell_type": "code",
      "execution_count": 20,
      "metadata": {
        "colab": {
          "base_uri": "https://localhost:8080/",
          "height": 265
        },
        "id": "xxuXa3nIXegS",
        "outputId": "9eaba776-aeb5-4fbb-9040-d5d5204e55b9"
      },
      "outputs": [
        {
          "data": {
            "image/png": "[encoded data removed]",
            "text/plain": [
              "<Figure size 432x288 with 1 Axes>"
            ]
          },
          "metadata": {
            "needs_background": "light"
          },
          "output_type": "display_data"
        }
      ],
      "source": [
        "bbb_valid_data.Y.hist();"
      ]
    },
    {
      "cell_type": "code",
      "execution_count": 21,
      "metadata": {
        "colab": {
          "base_uri": "https://localhost:8080/"
        },
        "id": "fBE0n57eXfrC",
        "outputId": "76847341-4a96-40d0-8161-6d12edc5600a"
      },
      "outputs": [
        {
          "data": {
            "text/plain": [
              "KstestResult(statistic=0.07952146375791697, pvalue=0.2031122698514255)"
            ]
          },
          "execution_count": 21,
          "metadata": {},
          "output_type": "execute_result"
        }
      ],
      "source": [
        "scipy.stats.ks_2samp( bbb_train_data.Y, bbb_valid_data.Y )"
      ]
    },
    {
      "cell_type": "markdown",
      "metadata": {
        "id": "yN3rRSQkHIkU"
      },
      "source": [
        "# PPBR (Plasma Protein Binding Rate), AstraZeneca"
      ]
    },
    {
      "cell_type": "code",
      "execution_count": 6,
      "metadata": {
        "colab": {
          "base_uri": "https://localhost:8080/"
        },
        "id": "4lzM1iNCGRMl",
        "outputId": "9d3d8aaf-24cb-473c-9414-591a0a99a2a6"
      },
      "outputs": [
        {
          "name": "stderr",
          "output_type": "stream",
          "text": [
            "Found local copy...\n",
            "Loading...\n",
            "Done!\n",
            "100%|██████████| 1614/1614 [00:00<00:00, 1981.83it/s]\n"
          ]
        }
      ],
      "source": [
        "ppbr_az_data = ADME( name='PPBR_AZ' )\n",
        "ppbr_az_splitted_data = ppbr_az_data.get_split( method='scaffold' )\n",
        "ppbr_az_train_data = ppbr_az_splitted_data[ 'train' ]\n",
        "ppbr_az_valid_data = ppbr_az_splitted_data[ 'valid' ]"
      ]
    },
    {
      "cell_type": "code",
      "execution_count": 7,
      "metadata": {
        "colab": {
          "base_uri": "https://localhost:8080/",
          "height": 265
        },
        "id": "i_I3ngBNGVtW",
        "outputId": "78c3083e-6c6a-4909-ce42-080604703c89"
      },
      "outputs": [
        {
          "data": {
            "image/png": "[encoded data removed]",
            "text/plain": [
              "<Figure size 432x288 with 1 Axes>"
            ]
          },
          "metadata": {
            "needs_background": "light"
          },
          "output_type": "display_data"
        }
      ],
      "source": [
        "ppbr_az_train_data.Y.hist();"
      ]
    },
    {
      "cell_type": "code",
      "execution_count": 9,
      "metadata": {
        "colab": {
          "base_uri": "https://localhost:8080/",
          "height": 265
        },
        "id": "rtTi2qkpGaQb",
        "outputId": "90e5f476-02b8-4659-d33e-8805e97e9bbb"
      },
      "outputs": [
        {
          "data": {
            "image/png": "[encoded data removed]",
            "text/plain": [
              "<Figure size 432x288 with 1 Axes>"
            ]
          },
          "metadata": {
            "needs_background": "light"
          },
          "output_type": "display_data"
        }
      ],
      "source": [
        "ppbr_az_valid_data.Y.hist();"
      ]
    },
    {
      "cell_type": "code",
      "execution_count": 12,
      "metadata": {
        "colab": {
          "base_uri": "https://localhost:8080/"
        },
        "id": "oo2Z5zpTGmYY",
        "outputId": "de7b8a3c-e957-4049-98b4-df21b4575922"
      },
      "outputs": [
        {
          "data": {
            "text/plain": [
              "KstestResult(statistic=0.12084568875880926, pvalue=0.029604741674221113)"
            ]
          },
          "execution_count": 12,
          "metadata": {},
          "output_type": "execute_result"
        }
      ],
      "source": [
        "scipy.stats.ks_2samp( ppbr_az_train_data.Y, ppbr_az_valid_data.Y )"
      ]
    },
    {
      "cell_type": "markdown",
      "metadata": {
        "id": "a1hRpeu6HTzZ"
      },
      "source": [
        "# VDss (Volumn of Distribution at steady state), Lombardo et al."
      ]
    },
    {
      "cell_type": "code",
      "execution_count": 13,
      "metadata": {
        "colab": {
          "base_uri": "https://localhost:8080/"
        },
        "id": "eObJtQf4GxQl",
        "outputId": "3a7dbbf1-3ec5-4bbb-923a-5180fd1bfbbc"
      },
      "outputs": [
        {
          "name": "stderr",
          "output_type": "stream",
          "text": [
            "Downloading...\n",
            "100%|██████████| 89.9k/89.9k [00:00<00:00, 1.52MiB/s]\n",
            "Loading...\n",
            "Done!\n",
            "100%|██████████| 1130/1130 [00:00<00:00, 1758.39it/s]\n"
          ]
        }
      ],
      "source": [
        "vdss_data = ADME( name='VDss_Lombardo' )\n",
        "vdss_splitted_data = vdss_data.get_split( method='scaffold' )\n",
        "vdss_train_data = vdss_splitted_data[ 'train' ]\n",
        "vdss_valid_data = vdss_splitted_data[ 'valid' ]"
      ]
    },
    {
      "cell_type": "code",
      "execution_count": 14,
      "metadata": {
        "colab": {
          "base_uri": "https://localhost:8080/",
          "height": 265
        },
        "id": "huCtqxkQG9XD",
        "outputId": "46c7e3e2-b1f0-4349-f8fb-5b13cc46e62b"
      },
      "outputs": [
        {
          "data": {
            "image/png": "[encoded data removed]",
            "text/plain": [
              "<Figure size 432x288 with 1 Axes>"
            ]
          },
          "metadata": {
            "needs_background": "light"
          },
          "output_type": "display_data"
        }
      ],
      "source": [
        "vdss_train_data.Y.hist();"
      ]
    },
    {
      "cell_type": "code",
      "execution_count": 15,
      "metadata": {
        "colab": {
          "base_uri": "https://localhost:8080/",
          "height": 268
        },
        "id": "0pYk1oJ2HBNP",
        "outputId": "0322df48-68f7-4948-9d28-4587e3f360d1"
      },
      "outputs": [
        {
          "data": {
            "image/png": "[encoded data removed]",
            "text/plain": [
              "<Figure size 432x288 with 1 Axes>"
            ]
          },
          "metadata": {
            "needs_background": "light"
          },
          "output_type": "display_data"
        }
      ],
      "source": [
        "vdss_valid_data.Y.hist();"
      ]
    },
    {
      "cell_type": "code",
      "execution_count": 16,
      "metadata": {
        "colab": {
          "base_uri": "https://localhost:8080/"
        },
        "id": "A8HqsRWCHDmI",
        "outputId": "f267af17-2899-4c4a-9911-2f647415f7ad"
      },
      "outputs": [
        {
          "data": {
            "text/plain": [
              "KstestResult(statistic=0.07838179519595449, pvalue=0.5583698382048401)"
            ]
          },
          "execution_count": 16,
          "metadata": {},
          "output_type": "execute_result"
        }
      ],
      "source": [
        "scipy.stats.ks_2samp( vdss_train_data.Y, vdss_valid_data.Y )"
      ]
    }
  ],
  "metadata": {
    "colab": {
      "provenance": []
    },
    "kernelspec": {
      "display_name": "Python 3",
      "name": "python3"
    },
    "language_info": {
      "name": "python"
    }
  },
  "nbformat": 4,
  "nbformat_minor": 0
}
